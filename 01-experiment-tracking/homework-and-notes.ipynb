{
 "cells": [
  {
   "cell_type": "markdown",
   "metadata": {},
   "source": [
    "# ML Flow"
   ]
  },
  {
   "cell_type": "markdown",
   "metadata": {},
   "source": [
    "# **Introduction**\n",
    "\n",
    "MLflow is an open-source platform designed to manage the complete machine learning lifecycle.\n",
    "\n",
    "it Help in the machine learning workflow, from experimentation to deployment. As a Python package, it can be easily installed using `pip install mlflow`. MLflow is composed of four main modules:\n",
    "\n",
    "- **Tracking**:  allows you to log and query experiments, including code versions, parameters, metrics, and output files, ensuring you can reproduce and compare results across different runs.\n",
    "\n",
    "- **Projects**: provides a standard format for packaging reusable data science code. It enables you to organize your code in a way that makes it easy to run and reproduce across different environments.\n",
    "\n",
    "- **Models**: MLflow Models offers a unified approach for packaging machine learning models. It supports multiple formats (e.g., TensorFlow, PyTorch, Scikit-Learn) \n",
    "\n",
    "- **Registry**: The Model Registry provides a centralized place to manage and govern the full lifecycle of your models. It includes functionalities for versioning, staging, and annotating models, helping maintain an organized workflow from experimentation to production.\n",
    "\n",
    "\n",
    "## **Tracking experiments**\n",
    "\n",
    "MLflow traking module allows to organize the experiments into runs, and keep track of the :\n",
    "\n",
    "- **Parameters**:  path to train dataset, number of epochs, learning rate, etc.\n",
    "\n",
    "- **metrics**: accuracy, loss, etc.\n",
    "\n",
    "- **metadata**: code version, git commit, etc.\n",
    "\n",
    "- **artifcats**: any file produced during the run, such as model, plots, etc.\n",
    "\n",
    "- **models**: the model itself, which can be saved and loaded using the MLflow API.\n",
    "\n"
   ]
  },
  {
   "cell_type": "markdown",
   "metadata": {},
   "source": [
    "We first need to define a database to store the experiments. This can be done by setting the `MLFLOW_TRACKING_URI` environment variable. If not set, MLflow will use a local SQLite database.\n",
    "\n",
    "```python\n"
   ]
  },
  {
   "cell_type": "markdown",
   "metadata": {},
   "source": [
    "# Homework\n"
   ]
  },
  {
   "cell_type": "markdown",
   "metadata": {},
   "source": [
    "\n",
    "The goal of this homework is to get familiar with MLflow, the tool for experiment tracking and \n",
    "model management.\n",
    "\n",
    "\n",
    "### Q1. Install MLflow\n",
    "\n",
    "To get started with MLflow you'll need to install the MLflow Python package.\n",
    "\n",
    "For this we recommend creating a separate Python environment, for example, you can use [conda environments](https://docs.conda.io/projects/conda/en/latest/user-guide/getting-started.html#managing-envs), and then install the package there with `pip` or `conda`.\n",
    "\n",
    "Once you installed the package, run the command `mlflow --version` and check the output.\n",
    "\n",
    "What's the version that you have?\n"
   ]
  },
  {
   "cell_type": "markdown",
   "metadata": {},
   "source": [
    "- **mlflow, version 2.13.0**"
   ]
  },
  {
   "cell_type": "markdown",
   "metadata": {},
   "source": [
    "### Q2. Download and preprocess the data\n",
    "\n",
    "We'll use the Green Taxi Trip Records dataset to predict the duration of each trip. \n",
    "\n",
    "Download the data for January, February and March 2023 in parquet format from [here](https://www1.nyc.gov/site/tlc/about/tlc-trip-record-data.page).\n",
    "\n",
    "Use the script `preprocess_data.py` located in the folder [`homework`](homework) to preprocess the data.\n",
    "\n",
    "The script will:\n",
    "\n",
    "* load the data from the folder `<TAXI_DATA_FOLDER>` (the folder where you have downloaded the data),\n",
    "* fit a `DictVectorizer` on the training set (January 2023 data),\n",
    "* save the preprocessed datasets and the `DictVectorizer` to disk.\n",
    "\n",
    "Your task is to download the datasets and then execute this command:\n",
    "\n",
    "```\n",
    "python preprocess_data.py --raw_data_path <TAXI_DATA_FOLDER> --dest_path ./output\n",
    "```\n",
    "\n",
    "Tip: go to `02-experiment-tracking/homework/` folder before executing the command and change the value of `<TAXI_DATA_FOLDER>` to the location where you saved the data.\n",
    "\n",
    "How many files were saved to `OUTPUT_FOLDER`?\n",
    "\n",
    "* 1\n",
    "* 3\n",
    "* **4**\n",
    "* 7"
   ]
  },
  {
   "cell_type": "code",
   "execution_count": 23,
   "metadata": {},
   "outputs": [
    {
     "name": "stderr",
     "output_type": "stream",
     "text": [
      "--2024-05-28 12:45:42--  https://d37ci6vzurychx.cloudfront.net/trip-data/green_tripdata_2023-01.parquet\n",
      "Resolving d37ci6vzurychx.cloudfront.net (d37ci6vzurychx.cloudfront.net)... 2600:9000:2503:6600:b:20a5:b140:21, 2600:9000:2503:8400:b:20a5:b140:21, 2600:9000:2503:7400:b:20a5:b140:21, ...\n",
      "Connecting to d37ci6vzurychx.cloudfront.net (d37ci6vzurychx.cloudfront.net)|2600:9000:2503:6600:b:20a5:b140:21|:443... connected.\n",
      "HTTP request sent, awaiting response... 200 OK\n",
      "Length: 1427002 (1,4M) [binary/octet-stream]\n",
      "Saving to: ‘/home/marcos/GitHub/mlops-zoomcamp/01-experiment-tracking/data/raw/green_tripdata_2023-01.parquet’\n",
      "\n",
      "     0K .......... .......... .......... .......... ..........  3%  320K 4s\n",
      "    50K .......... .......... .......... .......... ..........  7%  466K 3s\n",
      "   100K .......... .......... .......... .......... .......... 10%  921K 3s\n",
      "   150K .......... .......... .......... .......... .......... 14%  937K 2s\n",
      "   200K .......... .......... .......... .......... .......... 17% 1,41M 2s\n",
      "   250K .......... .......... .......... .......... .......... 21% 1,50M 2s\n",
      "   300K .......... .......... .......... .......... .......... 25% 1,34M 1s\n",
      "   350K .......... .......... .......... .......... .......... 28% 2,31M 1s\n",
      "   400K .......... .......... .......... .......... .......... 32% 2,77M 1s\n",
      "   450K .......... .......... .......... .......... .......... 35% 2,82M 1s\n",
      "   500K .......... .......... .......... .......... .......... 39% 3,19M 1s\n",
      "   550K .......... .......... .......... .......... .......... 43% 3,52M 1s\n",
      "   600K .......... .......... .......... .......... .......... 46% 3,53M 1s\n",
      "   650K .......... .......... .......... .......... .......... 50% 2,85M 1s\n",
      "   700K .......... .......... .......... .......... .......... 53% 4,07M 1s\n",
      "   750K .......... .......... .......... .......... .......... 57% 4,53M 0s\n",
      "   800K .......... .......... .......... .......... .......... 60% 5,01M 0s\n",
      "   850K .......... .......... .......... .......... .......... 64% 5,80M 0s\n",
      "   900K .......... .......... .......... .......... .......... 68% 4,00M 0s\n",
      "   950K .......... .......... .......... .......... .......... 71% 6,08M 0s\n",
      "  1000K .......... .......... .......... .......... .......... 75% 5,91M 0s\n",
      "  1050K .......... .......... .......... .......... .......... 78% 7,02M 0s\n",
      "  1100K .......... .......... .......... .......... .......... 82% 6,40M 0s\n",
      "  1150K .......... .......... .......... .......... .......... 86% 7,05M 0s\n",
      "  1200K .......... .......... .......... .......... .......... 89% 7,33M 0s\n",
      "  1250K .......... .......... .......... .......... .......... 93% 7,45M 0s\n",
      "  1300K .......... .......... .......... .......... .......... 96% 4,91M 0s\n",
      "  1350K .......... .......... .......... .......... ...       100% 20,0M=0,7s\n",
      "\n",
      "2024-05-28 12:45:44 (1,92 MB/s) - ‘/home/marcos/GitHub/mlops-zoomcamp/01-experiment-tracking/data/raw/green_tripdata_2023-01.parquet’ saved [1427002/1427002]\n",
      "\n",
      "--2024-05-28 12:45:44--  https://d37ci6vzurychx.cloudfront.net/trip-data/green_tripdata_2023-02.parquet\n",
      "Resolving d37ci6vzurychx.cloudfront.net (d37ci6vzurychx.cloudfront.net)... 2600:9000:2503:400:b:20a5:b140:21, 2600:9000:2503:8400:b:20a5:b140:21, 2600:9000:2503:aa00:b:20a5:b140:21, ...\n",
      "Connecting to d37ci6vzurychx.cloudfront.net (d37ci6vzurychx.cloudfront.net)|2600:9000:2503:400:b:20a5:b140:21|:443... connected.\n",
      "HTTP request sent, awaiting response... 200 OK\n",
      "Length: 1533740 (1,5M) [binary/octet-stream]\n",
      "Saving to: ‘/home/marcos/GitHub/mlops-zoomcamp/01-experiment-tracking/data/raw/green_tripdata_2023-02.parquet’\n",
      "\n",
      "     0K .......... .......... .......... .......... ..........  3%  362K 4s\n",
      "    50K .......... .......... .......... .......... ..........  6%  461K 3s\n",
      "   100K .......... .......... .......... .......... .......... 10%  924K 3s\n",
      "   150K .......... .......... .......... .......... .......... 13%  963K 2s\n",
      "   200K .......... .......... .......... .......... .......... 16% 1,51M 2s\n",
      "   250K .......... .......... .......... .......... .......... 20% 1,17M 2s\n",
      "   300K .......... .......... .......... .......... .......... 23% 1,95M 1s\n",
      "   350K .......... .......... .......... .......... .......... 26% 1,30M 1s\n",
      "   400K .......... .......... .......... .......... .......... 30% 2,66M 1s\n",
      "   450K .......... .......... .......... .......... .......... 33% 3,10M 1s\n",
      "   500K .......... .......... .......... .......... .......... 36% 3,48M 1s\n",
      "   550K .......... .......... .......... .......... .......... 40% 3,70M 1s\n",
      "   600K .......... .......... .......... .......... .......... 43% 3,59M 1s\n",
      "   650K .......... .......... .......... .......... .......... 46% 4,04M 1s\n",
      "   700K .......... .......... .......... .......... .......... 50% 4,56M 1s\n",
      "   750K .......... .......... .......... .......... .......... 53% 3,35M 1s\n",
      "   800K .......... .......... .......... .......... .......... 56% 4,11M 0s\n",
      "   850K .......... .......... .......... .......... .......... 60% 5,33M 0s\n",
      "   900K .......... .......... .......... .......... .......... 63% 5,00M 0s\n",
      "   950K .......... .......... .......... .......... .......... 66% 5,23M 0s\n",
      "  1000K .......... .......... .......... .......... .......... 70% 4,33M 0s\n",
      "  1050K .......... .......... .......... .......... .......... 73% 6,24M 0s\n",
      "  1100K .......... .......... .......... .......... .......... 76% 6,44M 0s\n",
      "  1150K .......... .......... .......... .......... .......... 80% 6,70M 0s\n",
      "  1200K .......... .......... .......... .......... .......... 83% 6,79M 0s\n",
      "  1250K .......... .......... .......... .......... .......... 86% 8,13M 0s\n",
      "  1300K .......... .......... .......... .......... .......... 90% 7,63M 0s\n",
      "  1350K .......... .......... .......... .......... .......... 93% 7,87M 0s\n",
      "  1400K .......... .......... .......... .......... .......... 96% 6,47M 0s\n",
      "  1450K .......... .......... .......... .......... .......   100% 11,0M=0,7s\n",
      "\n",
      "2024-05-28 12:45:45 (2,05 MB/s) - ‘/home/marcos/GitHub/mlops-zoomcamp/01-experiment-tracking/data/raw/green_tripdata_2023-02.parquet’ saved [1533740/1533740]\n",
      "\n",
      "--2024-05-28 12:45:45--  https://d37ci6vzurychx.cloudfront.net/trip-data/green_tripdata_2023-03.parquet\n",
      "Resolving d37ci6vzurychx.cloudfront.net (d37ci6vzurychx.cloudfront.net)... 2600:9000:2503:a800:b:20a5:b140:21, 2600:9000:2503:8400:b:20a5:b140:21, 2600:9000:2503:6600:b:20a5:b140:21, ...\n",
      "Connecting to d37ci6vzurychx.cloudfront.net (d37ci6vzurychx.cloudfront.net)|2600:9000:2503:a800:b:20a5:b140:21|:443... connected.\n",
      "HTTP request sent, awaiting response... 200 OK\n",
      "Length: 1730999 (1,7M) [binary/octet-stream]\n",
      "Saving to: ‘/home/marcos/GitHub/mlops-zoomcamp/01-experiment-tracking/data/raw/green_tripdata_2023-03.parquet’\n",
      "\n",
      "     0K .......... .......... .......... .......... ..........  2%  335K 5s\n",
      "    50K .......... .......... .......... .......... ..........  5%  405K 4s\n",
      "   100K .......... .......... .......... .......... ..........  8% 1,07M 3s\n",
      "   150K .......... .......... .......... .......... .......... 11% 1,00M 3s\n",
      "   200K .......... .......... .......... .......... .......... 14% 1,22M 2s\n",
      "   250K .......... .......... .......... .......... .......... 17% 1,41M 2s\n",
      "   300K .......... .......... .......... .......... .......... 20% 1,88M 2s\n",
      "   350K .......... .......... .......... .......... .......... 23% 2,04M 2s\n",
      "   400K .......... .......... .......... .......... .......... 26% 3,03M 1s\n",
      "   450K .......... .......... .......... .......... .......... 29% 3,17M 1s\n",
      "   500K .......... .......... .......... .......... .......... 32% 3,09M 1s\n",
      "   550K .......... .......... .......... .......... .......... 35% 3,23M 1s\n",
      "   600K .......... .......... .......... .......... .......... 38% 3,22M 1s\n",
      "   650K .......... .......... .......... .......... .......... 41% 3,69M 1s\n",
      "   700K .......... .......... .......... .......... .......... 44% 4,11M 1s\n",
      "   750K .......... .......... .......... .......... .......... 47% 3,57M 1s\n",
      "   800K .......... .......... .......... .......... .......... 50% 5,19M 1s\n",
      "   850K .......... .......... .......... .......... .......... 53% 5,67M 1s\n",
      "   900K .......... .......... .......... .......... .......... 56% 6,12M 0s\n",
      "   950K .......... .......... .......... .......... .......... 59% 6,23M 0s\n",
      "  1000K .......... .......... .......... .......... .......... 62% 7,13M 0s\n",
      "  1050K .......... .......... .......... .......... .......... 65% 6,58M 0s\n",
      "  1100K .......... .......... .......... .......... .......... 68% 7,85M 0s\n",
      "  1150K .......... .......... .......... .......... .......... 70% 5,82M 0s\n",
      "  1200K .......... .......... .......... .......... .......... 73% 7,58M 0s\n",
      "  1250K .......... .......... .......... .......... .......... 76% 8,16M 0s\n",
      "  1300K .......... .......... .......... .......... .......... 79% 7,81M 0s\n",
      "  1350K .......... .......... .......... .......... .......... 82% 9,49M 0s\n",
      "  1400K .......... .......... .......... .......... .......... 85% 6,50M 0s\n",
      "  1450K .......... .......... .......... .......... .......... 88% 7,31M 0s\n",
      "  1500K .......... .......... .......... .......... .......... 91% 10,7M 0s\n",
      "  1550K .......... .......... .......... .......... .......... 94% 7,42M 0s\n",
      "  1600K .......... .......... .......... .......... .......... 97% 9,88M 0s\n",
      "  1650K .......... .......... .......... ..........           100% 11,7M=0,7s\n",
      "\n",
      "2024-05-28 12:45:46 (2,27 MB/s) - ‘/home/marcos/GitHub/mlops-zoomcamp/01-experiment-tracking/data/raw/green_tripdata_2023-03.parquet’ saved [1730999/1730999]\n",
      "\n"
     ]
    }
   ],
   "source": [
    "%%bash\n",
    "\n",
    "DEST_DIR=\"$(pwd)/data/raw\"\n",
    "mkdir -p $DEST_DIR\n",
    "\n",
    "# Base URL for the files\n",
    "BASE_URL=\"https://d37ci6vzurychx.cloudfront.net/trip-data/green_tripdata_2023-\"\n",
    "\n",
    "# List of months to download\n",
    "MONTHS=(\"01\" \"02\" \"03\")\n",
    "\n",
    "# Download each file\n",
    "for MONTH in \"${MONTHS[@]}\"; do\n",
    "    URL=\"${BASE_URL}${MONTH}.parquet\"\n",
    "    wget -P $DEST_DIR $URL\n",
    "done\n"
   ]
  },
  {
   "cell_type": "code",
   "execution_count": 24,
   "metadata": {},
   "outputs": [
    {
     "name": "stdout",
     "output_type": "stream",
     "text": [
      "dv.pkl\n",
      "test.pkl\n",
      "train.pkl\n",
      "val.pkl\n"
     ]
    }
   ],
   "source": [
    "%%bash\n",
    "\n",
    "DEST_DIR=\"$(pwd)/data/processed\"\n",
    "DATA_PATH=\"$(pwd)/data/raw\"\n",
    "\n",
    "python preprocess_data.py --raw_data_path $DATA_PATH --dest_path $DEST_DIR\n",
    "\n",
    "ls $DEST_DIR"
   ]
  },
  {
   "cell_type": "markdown",
   "metadata": {},
   "source": [
    "\n",
    "\n",
    "### Q3. Train a model with autolog\n",
    "\n",
    "We will train a `RandomForestRegressor` (from Scikit-Learn) on the taxi dataset.\n",
    "\n",
    "We have prepared the training script `train.py` for this exercise, which can be also found in the folder `homework`. \n",
    "\n",
    "The script will:\n",
    "\n",
    "* load the datasets produced by the previous step,\n",
    "* train the model on the training set,\n",
    "* calculate the RMSE score on the validation set.\n",
    "\n",
    "Your task is to modify the script to enable **autologging** with MLflow, execute the script and then launch the MLflow UI to check that the experiment run was properly tracked. \n",
    "\n",
    "Tip 1: don't forget to wrap the training code with a `with mlflow.start_run():` statement as we showed in the videos.\n",
    "\n",
    "Tip 2: don't modify the hyperparameters of the model to make sure that the training will finish quickly.\n",
    "\n",
    "What is the value of the `min_samples_split` parameter:\n",
    "\n",
    "* **2**\n",
    "* 4\n",
    "* 8\n",
    "* 10"
   ]
  },
  {
   "cell_type": "markdown",
   "metadata": {},
   "source": [
    "To start the mlflow UI we can use\n",
    "\n",
    "´´´bash\n",
    "mlflow ui --backend-store-uri sqlite:///mlflow.db\n",
    "´´´"
   ]
  },
  {
   "cell_type": "code",
   "execution_count": 20,
   "metadata": {},
   "outputs": [
    {
     "name": "stdout",
     "output_type": "stream",
     "text": [
      "2024/05/28 11:22:02 INFO mlflow.store.db.utils: Creating initial MLflow database tables...\n",
      "2024/05/28 11:22:02 INFO mlflow.store.db.utils: Updating database tables\n",
      "INFO  [alembic.runtime.migration] Context impl SQLiteImpl.\n",
      "INFO  [alembic.runtime.migration] Will assume non-transactional DDL.\n",
      "INFO  [alembic.runtime.migration] Running upgrade  -> 451aebb31d03, add metric step\n",
      "INFO  [alembic.runtime.migration] Running upgrade 451aebb31d03 -> 90e64c465722, migrate user column to tags\n",
      "INFO  [alembic.runtime.migration] Running upgrade 90e64c465722 -> 181f10493468, allow nulls for metric values\n",
      "INFO  [alembic.runtime.migration] Running upgrade 181f10493468 -> df50e92ffc5e, Add Experiment Tags Table\n",
      "INFO  [alembic.runtime.migration] Running upgrade df50e92ffc5e -> 7ac759974ad8, Update run tags with larger limit\n",
      "INFO  [alembic.runtime.migration] Running upgrade 7ac759974ad8 -> 89d4b8295536, create latest metrics table\n",
      "INFO  [89d4b8295536_create_latest_metrics_table_py] Migration complete!\n",
      "INFO  [alembic.runtime.migration] Running upgrade 89d4b8295536 -> 2b4d017a5e9b, add model registry tables to db\n",
      "INFO  [2b4d017a5e9b_add_model_registry_tables_to_db_py] Adding registered_models and model_versions tables to database.\n",
      "INFO  [2b4d017a5e9b_add_model_registry_tables_to_db_py] Migration complete!\n",
      "INFO  [alembic.runtime.migration] Running upgrade 2b4d017a5e9b -> cfd24bdc0731, Update run status constraint with killed\n",
      "INFO  [alembic.runtime.migration] Running upgrade cfd24bdc0731 -> 0a8213491aaa, drop_duplicate_killed_constraint\n",
      "INFO  [alembic.runtime.migration] Running upgrade 0a8213491aaa -> 728d730b5ebd, add registered model tags table\n",
      "INFO  [alembic.runtime.migration] Running upgrade 728d730b5ebd -> 27a6a02d2cf1, add model version tags table\n",
      "INFO  [alembic.runtime.migration] Running upgrade 27a6a02d2cf1 -> 84291f40a231, add run_link to model_version\n",
      "INFO  [alembic.runtime.migration] Running upgrade 84291f40a231 -> a8c4a736bde6, allow nulls for run_id\n",
      "INFO  [alembic.runtime.migration] Running upgrade a8c4a736bde6 -> 39d1c3be5f05, add_is_nan_constraint_for_metrics_tables_if_necessary\n",
      "INFO  [alembic.runtime.migration] Running upgrade 39d1c3be5f05 -> c48cb773bb87, reset_default_value_for_is_nan_in_metrics_table_for_mysql\n",
      "INFO  [alembic.runtime.migration] Running upgrade c48cb773bb87 -> bd07f7e963c5, create index on run_uuid\n",
      "INFO  [alembic.runtime.migration] Running upgrade bd07f7e963c5 -> 0c779009ac13, add deleted_time field to runs table\n",
      "INFO  [alembic.runtime.migration] Running upgrade 0c779009ac13 -> cc1f77228345, change param value length to 500\n",
      "INFO  [alembic.runtime.migration] Running upgrade cc1f77228345 -> 97727af70f4d, Add creation_time and last_update_time to experiments table\n",
      "INFO  [alembic.runtime.migration] Running upgrade 97727af70f4d -> 3500859a5d39, Add Model Aliases table\n",
      "INFO  [alembic.runtime.migration] Running upgrade 3500859a5d39 -> 7f2a7d5fae7d, add datasets inputs input_tags tables\n",
      "INFO  [alembic.runtime.migration] Running upgrade 7f2a7d5fae7d -> 2d6e25af4d3e, increase max param val length from 500 to 8000\n",
      "INFO  [alembic.runtime.migration] Running upgrade 2d6e25af4d3e -> acf3f17fdcc7, add storage location field to model versions\n",
      "INFO  [alembic.runtime.migration] Running upgrade acf3f17fdcc7 -> 867495a8f9d4, add trace tables\n",
      "INFO  [alembic.runtime.migration] Context impl SQLiteImpl.\n",
      "INFO  [alembic.runtime.migration] Will assume non-transactional DDL.\n",
      "[2024-05-28 11:22:02 -0300] [220358] [INFO] Starting gunicorn 22.0.0\n",
      "[2024-05-28 11:22:02 -0300] [220358] [INFO] Listening at: http://127.0.0.1:5000 (220358)\n",
      "[2024-05-28 11:22:02 -0300] [220358] [INFO] Using worker: sync\n",
      "[2024-05-28 11:22:02 -0300] [220359] [INFO] Booting worker with pid: 220359\n",
      "[2024-05-28 11:22:02 -0300] [220360] [INFO] Booting worker with pid: 220360\n",
      "[2024-05-28 11:22:02 -0300] [220361] [INFO] Booting worker with pid: 220361\n",
      "[2024-05-28 11:22:02 -0300] [220362] [INFO] Booting worker with pid: 220362\n",
      "^C\n",
      "[2024-05-28 11:22:15 -0300] [220358] [INFO] Handling signal: int\n",
      "[2024-05-28 11:22:15 -0300] [220360] [INFO] Worker exiting (pid: 220360)\n",
      "[2024-05-28 11:22:15 -0300] [220359] [INFO] Worker exiting (pid: 220359)\n",
      "[2024-05-28 11:22:15 -0300] [220361] [INFO] Worker exiting (pid: 220361)\n",
      "[2024-05-28 11:22:15 -0300] [220362] [INFO] Worker exiting (pid: 220362)\n"
     ]
    }
   ],
   "source": [
    "!mlflow ui --backend-store-uri sqlite:///mlflow.db"
   ]
  },
  {
   "cell_type": "code",
   "execution_count": 28,
   "metadata": {},
   "outputs": [
    {
     "name": "stderr",
     "output_type": "stream",
     "text": [
      "2024/05/28 13:53:48 INFO mlflow.tracking.fluent: Experiment with name 'nyc-taxi-experiment' does not exist. Creating a new experiment.\n",
      "2024/05/28 13:53:48 WARNING mlflow.utils.autologging_utils: You are using an unsupported version of sklearn. If you encounter errors during autologging, try upgrading / downgrading sklearn to a supported version, or try upgrading MLflow.\n",
      "2024/05/28 13:53:49 WARNING mlflow.sklearn: Failed to log training dataset information to MLflow Tracking. Reason: 'numpy.ndarray' object has no attribute 'toarray'\n",
      "2024/05/28 13:54:00 WARNING mlflow.utils.autologging_utils: MLflow autologging encountered a warning: \"/home/marcos/.local/share/virtualenvs/01-experiment-tracking-6ItmHOOv/lib/python3.10/site-packages/_distutils_hack/__init__.py:33: UserWarning: Setuptools is replacing distutils.\"\n"
     ]
    }
   ],
   "source": [
    "%%bash\n",
    "\n",
    "DEST_DIR=\"$(pwd)/data/processed\"\n",
    "python train.py --data_path $DEST_DIR"
   ]
  },
  {
   "cell_type": "markdown",
   "metadata": {},
   "source": [
    "<center><img src=\"figures/mlflow-experiment.png\"></center>"
   ]
  },
  {
   "cell_type": "markdown",
   "metadata": {},
   "source": [
    "\n",
    "## Q4. Launch the tracking server locally\n",
    "\n",
    "Now we want to manage the entire lifecycle of our ML model. In this step, you'll need to launch a tracking server. This way we will also have access to the model registry. \n",
    "\n",
    "Your task is to:\n",
    "\n",
    "* launch the tracking server on your local machine,\n",
    "* select a SQLite db for the backend store and a folder called `artifacts` for the artifacts store.\n",
    "\n",
    "You should keep the tracking server running to work on the next two exercises that use the server.\n",
    "\n",
    "In addition to `backend-store-uri`, what else do you need to pass to properly configure the server?\n",
    "\n",
    "* **`default-artifact-root`**\n",
    "* `serve-artifacts`\n",
    "* `artifacts-only`\n",
    "* `artifacts-destination`\n"
   ]
  },
  {
   "cell_type": "markdown",
   "metadata": {},
   "source": [
    "launching the tracking server on local machine with SQLite db for the backend store:\n",
    "\n",
    "```bash\n",
    "mlflow server \\\n",
    "    --backend-store-uri sqlite:///mlflow.db \\\n",
    "    --default-artifact-root ./artifacts\n",
    "```"
   ]
  },
  {
   "cell_type": "markdown",
   "metadata": {},
   "source": [
    "\n",
    "\n",
    "## Q5. Tune model hyperparameters\n",
    "\n",
    "Now let's try to reduce the validation error by tuning the hyperparameters of the `RandomForestRegressor` using `hyperopt`. \n",
    "We have prepared the script `hpo.py` for this exercise. \n",
    "\n",
    "Your task is to modify the script `hpo.py` and make sure that the validation RMSE is logged to the tracking server for each run of the hyperparameter optimization (you will need to add a few lines of code to the `objective` function) and run the script without passing any parameters.\n",
    "\n",
    "After that, open UI and explore the runs from the experiment called `random-forest-hyperopt` to answer the question below.\n",
    "\n",
    "Note: Don't use autologging for this exercise.\n",
    "\n",
    "The idea is to just log the information that you need to answer the question below, including:\n",
    "\n",
    "* the list of hyperparameters that are passed to the `objective` function during the optimization,\n",
    "* the RMSE obtained on the validation set (February 2023 data).\n",
    "\n",
    "What's the best validation RMSE that you got?\n",
    "\n",
    "* 4.817\n",
    "* **5.335**\n",
    "* 5.818\n",
    "* 6.336\n"
   ]
  },
  {
   "cell_type": "code",
   "execution_count": 32,
   "metadata": {},
   "outputs": [
    {
     "name": "stdout",
     "output_type": "stream",
     "text": [
      "100%|██████████| 15/15 [00:47<00:00,  3.17s/trial, best loss: 5.335419588556921]\n"
     ]
    }
   ],
   "source": [
    "%%bash\n",
    "DEST_DIR=\"$(pwd)/data/processed\"\n",
    "python hpo.py --data_path $DEST_DIR\n"
   ]
  },
  {
   "cell_type": "markdown",
   "metadata": {},
   "source": [
    "\n",
    "\n",
    "## Q6. Promote the best model to the model registry\n",
    "\n",
    "The results from the hyperparameter optimization are quite good. So, we can assume that we are ready to test some of these models in production. \n",
    "In this exercise, you'll promote the best model to the model registry. We have prepared a script called `register_model.py`, which will check the results from the previous step and select the top 5 runs. \n",
    "After that, it will calculate the RMSE of those models on the test set (March 2023 data) and save the results to a new experiment called `random-forest-best-models`.\n",
    "\n",
    "Your task is to update the script `register_model.py` so that it selects the model with the lowest RMSE on the test set and registers it to the model registry.\n",
    "\n",
    "Tip 1: you can use the method `search_runs` from the `MlflowClient` to get the model with the lowest RMSE,\n",
    "\n",
    "Tip 2: to register the model you can use the method `mlflow.register_model` and you will need to pass the right `model_uri` in the form of a string that looks like this: `\"runs:/<RUN_ID>/model\"`, and the name of the model (make sure to choose a good one!).\n",
    "\n",
    "What is the test RMSE of the best model?\n",
    "\n",
    "* 5.060\n",
    "* 5.567\n",
    "* 6.061\n",
    "* 6.568"
   ]
  },
  {
   "cell_type": "code",
   "execution_count": 34,
   "metadata": {},
   "outputs": [
    {
     "name": "stderr",
     "output_type": "stream",
     "text": [
      "2024/05/28 14:56:05 WARNING mlflow.utils.autologging_utils: You are using an unsupported version of sklearn. If you encounter errors during autologging, try upgrading / downgrading sklearn to a supported version, or try upgrading MLflow.\n",
      "2024/05/28 14:56:06 WARNING mlflow.sklearn: Failed to log training dataset information to MLflow Tracking. Reason: 'numpy.ndarray' object has no attribute 'toarray'\n",
      "2024/05/28 14:56:11 WARNING mlflow.utils.autologging_utils: MLflow autologging encountered a warning: \"/home/marcos/.local/share/virtualenvs/01-experiment-tracking-6ItmHOOv/lib/python3.10/site-packages/_distutils_hack/__init__.py:33: UserWarning: Setuptools is replacing distutils.\"\n",
      "Traceback (most recent call last):\n",
      "  File \"/home/marcos/GitHub/mlops-zoomcamp/01-experiment-tracking/register_model.py\", line 88, in <module>\n",
      "    run_register_model()\n",
      "  File \"/home/marcos/.local/share/virtualenvs/01-experiment-tracking-6ItmHOOv/lib/python3.10/site-packages/click/core.py\", line 1157, in __call__\n",
      "    return self.main(*args, **kwargs)\n",
      "  File \"/home/marcos/.local/share/virtualenvs/01-experiment-tracking-6ItmHOOv/lib/python3.10/site-packages/click/core.py\", line 1078, in main\n",
      "    rv = self.invoke(ctx)\n",
      "  File \"/home/marcos/.local/share/virtualenvs/01-experiment-tracking-6ItmHOOv/lib/python3.10/site-packages/click/core.py\", line 1434, in invoke\n",
      "    return ctx.invoke(self.callback, **ctx.params)\n",
      "  File \"/home/marcos/.local/share/virtualenvs/01-experiment-tracking-6ItmHOOv/lib/python3.10/site-packages/click/core.py\", line 783, in invoke\n",
      "    return __callback(*args, **kwargs)\n",
      "  File \"/home/marcos/GitHub/mlops-zoomcamp/01-experiment-tracking/register_model.py\", line 70, in run_register_model\n",
      "    run_id, test_rmse = train_and_log_model(data_path=data_path, params=run.data.params)\n",
      "TypeError: cannot unpack non-iterable NoneType object\n"
     ]
    },
    {
     "ename": "CalledProcessError",
     "evalue": "Command 'b'DEST_DIR=\"$(pwd)/data/processed\"\\npython register_model.py --data_path $DEST_DIR\\n'' returned non-zero exit status 1.",
     "output_type": "error",
     "traceback": [
      "\u001b[0;31m---------------------------------------------------------------------------\u001b[0m",
      "\u001b[0;31mCalledProcessError\u001b[0m                        Traceback (most recent call last)",
      "Cell \u001b[0;32mIn[34], line 1\u001b[0m\n\u001b[0;32m----> 1\u001b[0m \u001b[43mget_ipython\u001b[49m\u001b[43m(\u001b[49m\u001b[43m)\u001b[49m\u001b[38;5;241;43m.\u001b[39;49m\u001b[43mrun_cell_magic\u001b[49m\u001b[43m(\u001b[49m\u001b[38;5;124;43m'\u001b[39;49m\u001b[38;5;124;43mbash\u001b[39;49m\u001b[38;5;124;43m'\u001b[39;49m\u001b[43m,\u001b[49m\u001b[43m \u001b[49m\u001b[38;5;124;43m'\u001b[39;49m\u001b[38;5;124;43m'\u001b[39;49m\u001b[43m,\u001b[49m\u001b[43m \u001b[49m\u001b[38;5;124;43m'\u001b[39;49m\u001b[38;5;124;43mDEST_DIR=\u001b[39;49m\u001b[38;5;124;43m\"\u001b[39;49m\u001b[38;5;124;43m$(pwd)/data/processed\u001b[39;49m\u001b[38;5;124;43m\"\u001b[39;49m\u001b[38;5;130;43;01m\\n\u001b[39;49;00m\u001b[38;5;124;43mpython register_model.py --data_path $DEST_DIR\u001b[39;49m\u001b[38;5;130;43;01m\\n\u001b[39;49;00m\u001b[38;5;124;43m'\u001b[39;49m\u001b[43m)\u001b[49m\n",
      "File \u001b[0;32m~/.local/share/virtualenvs/01-experiment-tracking-6ItmHOOv/lib/python3.10/site-packages/IPython/core/interactiveshell.py:2541\u001b[0m, in \u001b[0;36mInteractiveShell.run_cell_magic\u001b[0;34m(self, magic_name, line, cell)\u001b[0m\n\u001b[1;32m   2539\u001b[0m \u001b[38;5;28;01mwith\u001b[39;00m \u001b[38;5;28mself\u001b[39m\u001b[38;5;241m.\u001b[39mbuiltin_trap:\n\u001b[1;32m   2540\u001b[0m     args \u001b[38;5;241m=\u001b[39m (magic_arg_s, cell)\n\u001b[0;32m-> 2541\u001b[0m     result \u001b[38;5;241m=\u001b[39m \u001b[43mfn\u001b[49m\u001b[43m(\u001b[49m\u001b[38;5;241;43m*\u001b[39;49m\u001b[43margs\u001b[49m\u001b[43m,\u001b[49m\u001b[43m \u001b[49m\u001b[38;5;241;43m*\u001b[39;49m\u001b[38;5;241;43m*\u001b[39;49m\u001b[43mkwargs\u001b[49m\u001b[43m)\u001b[49m\n\u001b[1;32m   2543\u001b[0m \u001b[38;5;66;03m# The code below prevents the output from being displayed\u001b[39;00m\n\u001b[1;32m   2544\u001b[0m \u001b[38;5;66;03m# when using magics with decorator @output_can_be_silenced\u001b[39;00m\n\u001b[1;32m   2545\u001b[0m \u001b[38;5;66;03m# when the last Python token in the expression is a ';'.\u001b[39;00m\n\u001b[1;32m   2546\u001b[0m \u001b[38;5;28;01mif\u001b[39;00m \u001b[38;5;28mgetattr\u001b[39m(fn, magic\u001b[38;5;241m.\u001b[39mMAGIC_OUTPUT_CAN_BE_SILENCED, \u001b[38;5;28;01mFalse\u001b[39;00m):\n",
      "File \u001b[0;32m~/.local/share/virtualenvs/01-experiment-tracking-6ItmHOOv/lib/python3.10/site-packages/IPython/core/magics/script.py:155\u001b[0m, in \u001b[0;36mScriptMagics._make_script_magic.<locals>.named_script_magic\u001b[0;34m(line, cell)\u001b[0m\n\u001b[1;32m    153\u001b[0m \u001b[38;5;28;01melse\u001b[39;00m:\n\u001b[1;32m    154\u001b[0m     line \u001b[38;5;241m=\u001b[39m script\n\u001b[0;32m--> 155\u001b[0m \u001b[38;5;28;01mreturn\u001b[39;00m \u001b[38;5;28;43mself\u001b[39;49m\u001b[38;5;241;43m.\u001b[39;49m\u001b[43mshebang\u001b[49m\u001b[43m(\u001b[49m\u001b[43mline\u001b[49m\u001b[43m,\u001b[49m\u001b[43m \u001b[49m\u001b[43mcell\u001b[49m\u001b[43m)\u001b[49m\n",
      "File \u001b[0;32m~/.local/share/virtualenvs/01-experiment-tracking-6ItmHOOv/lib/python3.10/site-packages/IPython/core/magics/script.py:315\u001b[0m, in \u001b[0;36mScriptMagics.shebang\u001b[0;34m(self, line, cell)\u001b[0m\n\u001b[1;32m    310\u001b[0m \u001b[38;5;28;01mif\u001b[39;00m args\u001b[38;5;241m.\u001b[39mraise_error \u001b[38;5;129;01mand\u001b[39;00m p\u001b[38;5;241m.\u001b[39mreturncode \u001b[38;5;241m!=\u001b[39m \u001b[38;5;241m0\u001b[39m:\n\u001b[1;32m    311\u001b[0m     \u001b[38;5;66;03m# If we get here and p.returncode is still None, we must have\u001b[39;00m\n\u001b[1;32m    312\u001b[0m     \u001b[38;5;66;03m# killed it but not yet seen its return code. We don't wait for it,\u001b[39;00m\n\u001b[1;32m    313\u001b[0m     \u001b[38;5;66;03m# in case it's stuck in uninterruptible sleep. -9 = SIGKILL\u001b[39;00m\n\u001b[1;32m    314\u001b[0m     rc \u001b[38;5;241m=\u001b[39m p\u001b[38;5;241m.\u001b[39mreturncode \u001b[38;5;129;01mor\u001b[39;00m \u001b[38;5;241m-\u001b[39m\u001b[38;5;241m9\u001b[39m\n\u001b[0;32m--> 315\u001b[0m     \u001b[38;5;28;01mraise\u001b[39;00m CalledProcessError(rc, cell)\n",
      "\u001b[0;31mCalledProcessError\u001b[0m: Command 'b'DEST_DIR=\"$(pwd)/data/processed\"\\npython register_model.py --data_path $DEST_DIR\\n'' returned non-zero exit status 1."
     ]
    }
   ],
   "source": [
    "%%bash\n",
    "DEST_DIR=\"$(pwd)/data/processed\"\n",
    "python register_model.py --data_path $DEST_DIR"
   ]
  }
 ],
 "metadata": {
  "kernelspec": {
   "display_name": "Python 3",
   "language": "python",
   "name": "python3"
  },
  "language_info": {
   "codemirror_mode": {
    "name": "ipython",
    "version": 3
   },
   "file_extension": ".py",
   "mimetype": "text/x-python",
   "name": "python",
   "nbconvert_exporter": "python",
   "pygments_lexer": "ipython3",
   "version": "3.10.12"
  }
 },
 "nbformat": 4,
 "nbformat_minor": 2
}
