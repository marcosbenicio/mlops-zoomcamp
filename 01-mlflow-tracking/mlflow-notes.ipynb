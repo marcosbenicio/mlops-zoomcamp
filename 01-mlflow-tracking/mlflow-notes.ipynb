{
 "cells": [
  {
   "cell_type": "code",
   "execution_count": 1,
   "metadata": {},
   "outputs": [],
   "source": [
    "import mlflow\n",
    "from dotenv import load_dotenv\n",
    "import numpy as np\n",
    "import pandas as pd\n",
    "import matplotlib.pyplot as plt\n",
    "from pathlib import Path\n",
    "import seaborn as sns\n",
    "import joblib\n",
    "from sklearn.pipeline import Pipeline, make_pipeline\n",
    "from sklearn.preprocessing import OneHotEncoder, StandardScaler\n",
    "from sklearn.compose import ColumnTransformer\n",
    "from sklearn.preprocessing import StandardScaler\n",
    "from sklearn.model_selection import KFold\n",
    "from sklearn.metrics import mean_squared_error, r2_score, mean_absolute_error\n",
    "\n",
    "import xgboost as xgb\n",
    "from xgboost import XGBRegressor\n",
    "import optuna\n",
    "from sklearn.model_selection import GroupKFold, cross_validate\n",
    "from sklearn.metrics import mean_squared_error\n",
    "import os\n",
    "import platform\n",
    "\n",
    "from sklearn.feature_extraction import DictVectorizer\n",
    "from sklearn.linear_model import LinearRegression \n",
    "from sklearn.linear_model import Lasso\n",
    "from sklearn.linear_model import Ridge\n",
    "from sklearn.metrics import mean_squared_error"
   ]
  },
  {
   "cell_type": "markdown",
   "metadata": {},
   "source": [
    "# **Introduction**\n",
    "\n",
    "It Help in the machine learning workflow. As a Python package, it can be easily installed using `pip install mlflow`. MLflow is composed of four main modules:\n",
    "\n",
    "- **Tracking**:  allows you to log and query experiments, including code versions, parameters, metrics, and output files, ensuring you can reproduce and compare results across different runs.\n",
    "\n",
    "- **Projects**: provides a standard format for packaging reusable data science code. It enables you to organize your code in a way that makes it easy to run and reproduce across different environments.\n",
    "\n",
    "- **Models**: MLflow Models offers a unified approach for packaging machine learning models. It supports multiple formats (e.g., TensorFlow, PyTorch, Scikit-Learn) \n",
    "\n",
    "- **Registry**: The Model Registry provides a centralized place to manage and govern the full lifecycle of your models. It includes functionalities for versioning, staging, and annotating models, helping maintain an organized workflow from experimentation to production.\n",
    "\n",
    "\n",
    "**Tracking experiments**\n",
    "\n",
    "MLflow traking module allows to organize the experiments into runs, and keep track of the :\n",
    "\n",
    "- **Parameters**:  path to train dataset, number of epochs, learning rate, etc.\n",
    "\n",
    "- **metrics**: accuracy, loss, etc.\n",
    "\n",
    "- **metadata**: code version, git commit, etc.\n",
    "\n",
    "- **artifcats**: any file produced during the run, such as model, plots, etc.\n",
    "\n",
    "- **models**: the model itself, which can be saved and loaded using the MLflow API.\n",
    "\n",
    "Creating a new experiment by using `.set_experiment()` method: \n",
    "\n"
   ]
  },
  {
   "cell_type": "code",
   "execution_count": 2,
   "metadata": {},
   "outputs": [
    {
     "name": "stderr",
     "output_type": "stream",
     "text": [
      "2024/09/22 14:03:14 INFO mlflow.tracking.fluent: Experiment with name 'taxi-trip' does not exist. Creating a new experiment.\n"
     ]
    },
    {
     "name": "stdout",
     "output_type": "stream",
     "text": [
      "MLFLOW_EXPERIMENT_NAME set to: taxi-trip\n",
      "MLFLOW_TRACKING_URI set to: /home/marcos/GitHub/mlops-zoomcamp/01-mlflow-tracking/mlruns\n"
     ]
    },
    {
     "data": {
      "text/plain": [
       "<Experiment: artifact_location='/home/marcos/GitHub/mlops-zoomcamp/01-mlflow-tracking/mlruns/474405561834174778', creation_time=1727024594420, experiment_id='474405561834174778', last_update_time=1727024594420, lifecycle_stage='active', name='taxi-trip', tags={}>"
      ]
     },
     "execution_count": 2,
     "metadata": {},
     "output_type": "execute_result"
    }
   ],
   "source": [
    "# Load .env \n",
    "load_dotenv()\n",
    "\n",
    "# Determine the operating system\n",
    "is_linux = platform.system() == 'Linux'\n",
    "is_windows = platform.system() == 'Windows'\n",
    "\n",
    "if is_linux:\n",
    "    root_url = os.path.expanduser(os.getenv(\"ROOT_URL_LINUX\"))\n",
    "elif is_windows:\n",
    "    root_url = os.getenv(\"ROOT_URL_WINDOWS\")\n",
    "else:\n",
    "    raise EnvironmentError(\"Unsupported operating system\")\n",
    "\n",
    "# Construct paths for MLflow tracking\n",
    "mlflow_tracking_uri = str(Path(root_url) / 'mlops-zoomcamp/01-mlflow-tracking/mlruns')\n",
    "\n",
    "os.environ[\"MLFLOW_TRACKING_URI\"] = mlflow_tracking_uri\n",
    "experiment_name = os.getenv(\"MLFLOW_EXPERIMENT_NAME\")\n",
    "\n",
    "print(f\"MLFLOW_EXPERIMENT_NAME set to: {experiment_name}\")\n",
    "print(f\"MLFLOW_TRACKING_URI set to: {mlflow_tracking_uri}\")\n",
    "\n",
    "mlflow.set_tracking_uri(mlflow_tracking_uri)\n",
    "mlflow.set_experiment(experiment_name)\n"
   ]
  },
  {
   "cell_type": "markdown",
   "metadata": {},
   "source": [
    "## Preprocessing Taxi Data"
   ]
  },
  {
   "cell_type": "code",
   "execution_count": 3,
   "metadata": {},
   "outputs": [],
   "source": [
    "def preprocess_trip_data(file_path, min_duration=200, max_duration=3600):\n",
    "\n",
    "    df = pd.read_parquet(file_path)\n",
    "\n",
    "    df.lpep_pickup_datetime = pd.to_datetime(df.lpep_pickup_datetime)\n",
    "    df.lpep_dropoff_datetime = pd.to_datetime(df.lpep_dropoff_datetime)\n",
    "\n",
    "    # Minutes in  a day : 0-1440\n",
    "    df['min_of_day'] = (60*df['lpep_pickup_datetime'].dt.hour + df['lpep_pickup_datetime'].dt.minute)\n",
    "    # Days in a week: 0-6, where 0 is Monday and 6 Sunday\n",
    "    df['day_of_week'] = df['lpep_pickup_datetime'].dt.dayofweek\n",
    "    # Days in a year: 1-365 (or 366)\n",
    "    df['day_of_year'] = df['lpep_pickup_datetime'].dt.dayofyear\n",
    "    # Time of the  trip\n",
    "    df['trip_duration'] = (df['lpep_dropoff_datetime']- df['lpep_pickup_datetime']).dt.seconds\n",
    "    \n",
    "    # subset the data between min_duration and max_duration\n",
    "    df = df[(df['trip_duration'] >= min_duration) & (df['trip_duration'] <= max_duration)].copy()\n",
    "    df = df[df['trip_distance'] > 0.0].dropna(subset=['trip_distance'])\n",
    "    \n",
    "    \n",
    "    df['trip_duration'] = np.log1p(df['trip_duration'])\n",
    "    \n",
    "    categorical = ['PULocationID', 'DOLocationID']\n",
    "    df[categorical] = df[categorical].astype(str)\n",
    "    df['PU_DO']  = df['PULocationID'] + '_' + df['DOLocationID']\n",
    "    columns = ['PU_DO', 'min_of_day', 'day_of_week', 'day_of_year', 'trip_distance', 'trip_duration']\n",
    "\n",
    "    return df[columns].copy()\n",
    "\n",
    "\n",
    "df_train = preprocess_trip_data('data/raw/green/2023/01/green_tripdata_2023_01.parquet')\n",
    "df_val = preprocess_trip_data('data/raw/green/2023/02/green_tripdata_2023_02.parquet')\n",
    "\n",
    "X_train = df_train.drop(columns=['trip_duration'])\n",
    "y_train = df_train['trip_duration']\n",
    "\n",
    "X_val = df_val.drop(columns=['trip_duration'])\n",
    "y_val = df_val['trip_duration']"
   ]
  },
  {
   "cell_type": "markdown",
   "metadata": {},
   "source": [
    "## Trining and Saving Model Pipeline"
   ]
  },
  {
   "cell_type": "code",
   "execution_count": 4,
   "metadata": {},
   "outputs": [
    {
     "name": "stdout",
     "output_type": "stream",
     "text": [
      "RMSE: 0.36220934023321083\n"
     ]
    }
   ],
   "source": [
    "categorical_features = ['PU_DO']\n",
    "numerical_features = ['min_of_day', 'day_of_week', 'day_of_year','trip_distance']\n",
    "\n",
    "preprocessor = ColumnTransformer(\n",
    "    transformers=[\n",
    "        ('cat', OneHotEncoder(handle_unknown='ignore'), categorical_features),\n",
    "        ('num', StandardScaler(), numerical_features)\n",
    "    ])\n",
    "\n",
    "pipeline = Pipeline([\n",
    "    ('preprocessor', preprocessor),  \n",
    "    ('regressor', LinearRegression())  \n",
    "])\n",
    "\n",
    "pipeline.fit(X_train, y_train)\n",
    "\n",
    "y_pred = pipeline.predict(X_val)\n",
    "\n",
    "rmse = mean_squared_error(y_val, y_pred, squared=False)\n",
    "print(f\"RMSE: {rmse}\")"
   ]
  },
  {
   "cell_type": "code",
   "execution_count": 5,
   "metadata": {},
   "outputs": [
    {
     "data": {
      "text/plain": [
       "<matplotlib.legend.Legend at 0x74e3641a76d0>"
      ]
     },
     "execution_count": 5,
     "metadata": {},
     "output_type": "execute_result"
    },
    {
     "data": {
      "image/png": "[encoded data removed]",
      "text/plain": [
       "<Figure size 1600x600 with 1 Axes>"
      ]
     },
     "metadata": {},
     "output_type": "display_data"
    }
   ],
   "source": [
    "plt.figure(figsize=(16, 6))\n",
    "\n",
    "# KDE plot for residuals\n",
    "sns.kdeplot(y_val, color='blue', fill=True, alpha=0.5, label='True')\n",
    "sns.kdeplot(y_pred, color='green', fill=True, alpha=0.5, label='Predicted')\n",
    "plt.legend()\n"
   ]
  },
  {
   "cell_type": "code",
   "execution_count": 6,
   "metadata": {},
   "outputs": [
    {
     "name": "stdout",
     "output_type": "stream",
     "text": [
      "Model saved to: models/pipeline_lr_model.joblib\n"
     ]
    }
   ],
   "source": [
    "# Create directory to save the model\n",
    "os.makedirs('models', exist_ok=True)\n",
    "\n",
    "# Define the filename for the saved model\n",
    "model_filename = 'models/pipeline_lr_model.joblib'\n",
    "\n",
    "# Save the pipeline (including preprocessing and model)\n",
    "joblib.dump(pipeline, model_filename)\n",
    "\n",
    "print(f\"Model saved to: {model_filename}\")"
   ]
  },
  {
   "cell_type": "markdown",
   "metadata": {},
   "source": [
    "# MLflow Structure"
   ]
  },
  {
   "cell_type": "markdown",
   "metadata": {},
   "source": [
    "**Experiment:** An experiment is a container for multiple runs. It has a unique experiment ID that groups together all the runs related to a specific experiment or goal. We can think of an experiment as a folder that holds many runs. Each experiment can be used to track a different set of experiments, such as hyperparameter tuning or model comparison.\n",
    "\n",
    "**Run:** A run represents a single execution or trial within an experiment. Each run has a unique run ID, and it logs parameters, metrics, artifacts, and other information associated with that specific run.\n",
    "A run is essentially a child of an experiment, and multiple runs can belong to the same experiment. Runs allow you to track different configurations or experiments, like different hyperparameters or models, under the same experiment.\n",
    "\n",
    "**Parameters:** Parameters are variables that can be logged and associated with a run. They are typically used to track hyperparameters or other input values that influence the outcome of the run. For example, the learning rate or the number of epochs are common parameters that can be logged.\n",
    "\n",
    "\n",
    "In MLflow, a run is a single instance of an experiment where we train a model, log parameters, metrics, and artifacts. However, to try different configurations or models under the same overall goal or experiment we can use nested runs. Nested runs are runs that are created within another run, allowing us to group related runs together. This can be useful when we want to compare different models or hyperparameters under the same experiment. The folder structure for the nested runs in Mlflow are the following:\n",
    "\n",
    "\n",
    "```\n",
    "Experiment (experiment_id: 123)\n",
    "│\n",
    "├── Run 1 (run_id: abc123)\n",
    "│   ├── parameters: alpha=0.01\n",
    "│   ├── metrics: rmse=0.85\n",
    "│   ├── artifacts: lasso_model_alpha_0.01.joblib\n",
    "│   ├── tags\n",
    "│\n",
    "├── Run 2 (run_id: def456)\n",
    "│   ├── parameters: alpha=0.1\n",
    "│   ├── metrics: rmse=0.78\n",
    "│   ├── artifacts: lasso_model_alpha_0.1.joblib\n",
    "│   ├── tags\n",
    "│\n",
    "├── Run 3 (run_id: ghi789)\n",
    "│   ├── parameters: alpha=0.2\n",
    "│   ├── metrics: rmse=0.81\n",
    "│   ├── artifacts: lasso_model_alpha_0.2.joblib\n",
    "│   ├── tags\n",
    "```\n",
    "<center><img src=\"figures/mlflow_folder_structure.png\" width=\"800\" height=\"800\"></center>\n",
    "\n",
    "**Usefull Commands**\n",
    "\n",
    "1. **Tags** (`.set_tag`):\n",
    "   - Used to categorize and label runs, making them easier to find and organize in the MLflow UI.\n",
    "\n",
    "2. **Logging Parameters** (`.log_param`):\n",
    "   - Tracks hyperparameters like **alpha** and important metadata such as dataset paths, making it possible to recreate or analyze the run's conditions.\n",
    "\n",
    "3. **Logging Metrics** (`.log_metric`):\n",
    "   - Tracks the performance of the model, such as **RMSE**, providing a quantifiable metric that can be compared across different runs or experiments.\n",
    "\n",
    "4. **Logging Artifacts** (`.log_artifact`):\n",
    "   - Saves important files (like trained models) as artifacts, ensuring that they are available for future use or deployment."
   ]
  },
  {
   "cell_type": "code",
   "execution_count": 7,
   "metadata": {},
   "outputs": [
    {
     "name": "stdout",
     "output_type": "stream",
     "text": [
      "Model saved to: models/lasso_model_alpha_0.001.joblib\n",
      "Model saved to: models/lasso_model_alpha_0.01.joblib\n",
      "Model saved to: models/lasso_model_alpha_0.1.joblib\n",
      "Model saved to: models/lasso_model_alpha_0.2.joblib\n",
      "Model saved to: models/lasso_model_alpha_0.4.joblib\n"
     ]
    }
   ],
   "source": [
    "categorical_features = ['PU_DO']\n",
    "numerical_features = ['min_of_day', 'day_of_week', 'day_of_year', 'trip_distance']\n",
    "\n",
    "# Define the preprocessor\n",
    "preprocessor = ColumnTransformer(\n",
    "    transformers=[\n",
    "        ('cat', OneHotEncoder(handle_unknown='ignore'), categorical_features),\n",
    "        ('num', StandardScaler(), numerical_features)\n",
    "    ])\n",
    "\n",
    "# Loop over different alpha values\n",
    "with mlflow.start_run(run_name=\"Parent Experiment\"):\n",
    "    # Log basic parameters for the experiment\n",
    "    mlflow.set_tag(\"experiment_type\", \"Hyperparameter tuning for Lasso\")\n",
    "    mlflow.log_param(\"train-data-path\", \"data/raw/green/2023/01/green_tripdata_2023_01.parquet\")\n",
    "    mlflow.log_param(\"valid-data-path\", \"data/raw/green/2023/02/green_tripdata_2023_02.parquet\")\n",
    "    \n",
    "    for alpha in [0.001, 0.01, 0.1, 0.2, 0.4]:\n",
    "        # Start a nested run for each alpha value\n",
    "        run_name = f\"Lasso model with alpha={alpha}\"\n",
    "        with mlflow.start_run(nested=True, run_name=run_name):\n",
    "            mlflow.log_param(\"alpha\", alpha)\n",
    "            \n",
    "            # Create the pipeline (preprocessing + model)\n",
    "            pipeline = Pipeline([\n",
    "                ('preprocessor', preprocessor),  # Preprocessing step\n",
    "                ('regressor', Lasso(alpha=alpha))  # Model step with Lasso and alpha value\n",
    "            ])\n",
    "            \n",
    "            # Split your data into train and validation sets\n",
    "            X_train = df_train.drop(columns=[\"trip_duration\"])\n",
    "            y_train = df_train[\"trip_duration\"]\n",
    "            X_val = df_val.drop(columns=[\"trip_duration\"])\n",
    "            y_val = df_val[\"trip_duration\"]\n",
    "            \n",
    "            # Train the model\n",
    "            pipeline.fit(X_train, y_train)\n",
    "            \n",
    "            # Predict on validation set\n",
    "            y_pred = pipeline.predict(X_val)\n",
    "            \n",
    "            # Calculate the RMSE\n",
    "            rmse = mean_squared_error(y_val, y_pred, squared=False)\n",
    "            mlflow.log_metric(\"rmse\", rmse)\n",
    "            \n",
    "            # Save the trained pipeline model\n",
    "            os.makedirs('models', exist_ok=True)\n",
    "            model_filename = f'models/lasso_model_alpha_{alpha}.joblib'\n",
    "            joblib.dump(pipeline, model_filename)\n",
    "\n",
    "            print(f\"Model saved to: {model_filename}\")\n",
    "\n",
    "            # Log the model as an artifact in MLflow\n",
    "            mlflow.log_artifact(local_path=model_filename, artifact_path=\"models\")\n",
    "    \n",
    "    mlflow.end_run()"
   ]
  },
  {
   "cell_type": "markdown",
   "metadata": {},
   "source": [
    "\n",
    "\n",
    "<center><img src=\"figures/mlflow_experiment_ui.png\"></center>"
   ]
  },
  {
   "cell_type": "markdown",
   "metadata": {},
   "source": [
    "# XGBoost and Bayesian Optimization"
   ]
  },
  {
   "cell_type": "code",
   "execution_count": 8,
   "metadata": {},
   "outputs": [],
   "source": [
    "class RegressorParameterizer(object):\n",
    "    \"\"\"\n",
    "    Class built to utilize for model training with optuna.\n",
    "    \"\"\"\n",
    "\n",
    "    XGBOOST_NAME = 'xgboost'\n",
    "    LASSO_NAME = 'lasso'\n",
    "\n",
    "    def __init__(self, model_name, model_parameters, seed: int = 42):\n",
    "        self.model_name = model_name\n",
    "        self.model_parameters = model_parameters\n",
    "        self.seed = seed\n",
    "\n",
    "    def select_model(self, **kwargs):\n",
    "        \"\"\"\n",
    "        Select the model based on model_name.\n",
    "        \"\"\"\n",
    "        if self.model_name == self.XGBOOST_NAME:\n",
    "            return XGBRegressor(random_state=self.seed, **kwargs)\n",
    "        elif self.model_name == self.LASSO_NAME:\n",
    "            return Lasso(random_state=self.seed, **kwargs)\n",
    "        else:\n",
    "            raise ValueError(f\"Unsupported model: {self.model_name}\")\n",
    "\n",
    "    def create_model_parameters(self, trial):\n",
    "        \"\"\"\n",
    "        Create model-specific hyperparameters using an Optuna trial.\n",
    "        This version handles float and int types with optional step parameters.\n",
    "        \"\"\"\n",
    "        params = {}\n",
    "\n",
    "        for param_name, param_info in self.model_parameters.items():\n",
    "\n",
    "            if param_info['type'] == 'float':\n",
    "                # Check if a step parameter exists\n",
    "                if 'step' in param_info:\n",
    "                    params[param_name] = trial.suggest_float(\n",
    "                        name=param_name,\n",
    "                        low=param_info['low'],\n",
    "                        high=param_info['high'],\n",
    "                        step=param_info['step'],  # Use step if present\n",
    "                        log=param_info.get('log', False)\n",
    "                    )\n",
    "                else:\n",
    "                    params[param_name] = trial.suggest_float(\n",
    "                        name=param_name,\n",
    "                        low=param_info['low'],\n",
    "                        high=param_info['high'],\n",
    "                        log=param_info.get('log', False)  # No step, continuous search\n",
    "                    )\n",
    "\n",
    "            elif param_info['type'] == 'int':\n",
    "                params[param_name] = trial.suggest_int(\n",
    "                    name=param_name,\n",
    "                    low=param_info['low'],\n",
    "                    high=param_info['high'],\n",
    "                    step=param_info.get('step', 1)  # Use step if present, else use 1\n",
    "                )\n",
    "\n",
    "            elif param_info['type'] == 'categorical':\n",
    "                params[param_name] = trial.suggest_categorical(\n",
    "                    name=param_name,\n",
    "                    choices=param_info['choices']\n",
    "                )\n",
    "\n",
    "        return params"
   ]
  },
  {
   "cell_type": "markdown",
   "metadata": {},
   "source": [
    "<center><img src=\"figures/optuna_structure.png\" width=\"800\" height=\"400\" ></center>"
   ]
  },
  {
   "cell_type": "code",
   "execution_count": 9,
   "metadata": {},
   "outputs": [],
   "source": [
    "def objective(trial, X_train, y_train, model_name, model_parameters):\n",
    "    \n",
    "    model_parameterizer = RegressorParameterizer(model_name, model_parameters)\n",
    "    params = model_parameterizer.create_model_parameters(trial)\n",
    "    regressor = model_parameterizer.select_model(**params)\n",
    "    \n",
    "    \n",
    "    ### Pipeline\n",
    "    categorical_features = ['PU_DO']\n",
    "    numerical_features = ['min_of_day', 'day_of_week', 'day_of_year','trip_distance']   \n",
    "    preprocessor = ColumnTransformer(\n",
    "        transformers=[\n",
    "            ('cat', OneHotEncoder(handle_unknown='ignore'), categorical_features),\n",
    "            ('num', StandardScaler(), numerical_features)\n",
    "        ])\n",
    "    \n",
    "    \n",
    "    pipeline = Pipeline([\n",
    "        ('preprocessor', preprocessor), \n",
    "        ('regressor', regressor) \n",
    "    ])\n",
    "    ###\n",
    "\n",
    "    kf = KFold(n_splits=5, shuffle=True, random_state=42)\n",
    "\n",
    "    scoring = {\n",
    "        'rmse': 'neg_root_mean_squared_error', \n",
    "        'r2': 'r2',                           \n",
    "        'mae': 'neg_mean_absolute_error'      \n",
    "    }\n",
    "    \n",
    "    cv_results = cross_validate(\n",
    "        pipeline, \n",
    "        X_train, \n",
    "        y_train, \n",
    "        cv=kf, \n",
    "        scoring=scoring,  \n",
    "        return_train_score=True,  \n",
    "        n_jobs=-1\n",
    "    )\n",
    "    \n",
    "    mean_rmse = -np.mean(cv_results['test_rmse']) \n",
    "    \n",
    "    mean_train_rmse = -np.mean(cv_results['train_rmse']) \n",
    "    mean_test_r2 = np.mean(cv_results['test_r2']) \n",
    "    mean_train_r2 = np.mean(cv_results['train_r2']) \n",
    "    \n",
    "    print(f\"Mean Test RMSE: {mean_rmse}\")\n",
    "    print(f\"Mean Train RMSE: {mean_train_rmse}\")\n",
    "    print(f\"Mean Test R²: {mean_test_r2}\")\n",
    "    print(f\"Mean Train R²: {mean_train_r2}\")\n",
    "    \n",
    "    return mean_rmse"
   ]
  },
  {
   "cell_type": "markdown",
   "metadata": {},
   "source": [
    "<center><img src=\"figures/optimizer_type.png\" width=\"800\" height=\"400\" ></center>"
   ]
  },
  {
   "cell_type": "code",
   "execution_count": 10,
   "metadata": {},
   "outputs": [
    {
     "name": "stderr",
     "output_type": "stream",
     "text": [
      "[I 2024-09-22 14:03:19,676] A new study created in memory with name: no-name-8ceffc02-306f-4189-ade1-011d0c1bc229\n",
      "/home/marcos/.local/share/virtualenvs/01-mlflow-tracking-T1Yv4_EQ/lib/python3.10/site-packages/optuna/distributions.py:689: UserWarning: The distribution is specified by [1e-05, 10] and step=0.01, but the range is not divisible by `step`. It will be replaced by [1e-05, 9.99001].\n",
      "  warnings.warn(\n",
      "[I 2024-09-22 14:04:18,181] Trial 0 finished with value: 0.25980883507009433 and parameters: {'learning_rate': 0.1649528473955612, 'max_depth': 10, 'n_estimators': 953, 'reg_lambda': 4.71001, 'reg_alpha': 1.93001, 'subsample': 0.6736065800678215}. Best is trial 0 with value: 0.25980883507009433.\n"
     ]
    },
    {
     "name": "stdout",
     "output_type": "stream",
     "text": [
      "Mean Test RMSE: 0.25980883507009433\n",
      "Mean Train RMSE: 0.16619858713225558\n",
      "Mean Test R²: 0.7927934443564414\n",
      "Mean Train R²: 0.9152291110634552\n"
     ]
    },
    {
     "name": "stderr",
     "output_type": "stream",
     "text": [
      "[I 2024-09-22 14:04:31,943] Trial 1 finished with value: 0.24392505410874596 and parameters: {'learning_rate': 0.19146255145013838, 'max_depth': 9, 'n_estimators': 709, 'reg_lambda': 7.1700099999999996, 'reg_alpha': 0.10001, 'subsample': 0.8817373579708616}. Best is trial 1 with value: 0.24392505410874596.\n"
     ]
    },
    {
     "name": "stdout",
     "output_type": "stream",
     "text": [
      "Mean Test RMSE: 0.24392505410874596\n",
      "Mean Train RMSE: 0.1985296517212167\n",
      "Mean Test R²: 0.8173558645566356\n",
      "Mean Train R²: 0.8790393355580998\n"
     ]
    },
    {
     "name": "stderr",
     "output_type": "stream",
     "text": [
      "[I 2024-09-22 14:04:33,425] Trial 2 finished with value: 0.26747987616504243 and parameters: {'learning_rate': 0.17605677377248227, 'max_depth': 3, 'n_estimators': 257, 'reg_lambda': 1.19001, 'reg_alpha': 8.43001, 'subsample': 0.9104724777271495}. Best is trial 1 with value: 0.24392505410874596.\n"
     ]
    },
    {
     "name": "stdout",
     "output_type": "stream",
     "text": [
      "Mean Test RMSE: 0.26747987616504243\n",
      "Mean Train RMSE: 0.26452603421296983\n",
      "Mean Test R²: 0.7803684078050466\n",
      "Mean Train R²: 0.7852541523306078\n"
     ]
    },
    {
     "name": "stderr",
     "output_type": "stream",
     "text": [
      "[I 2024-09-22 14:04:34,388] Trial 3 finished with value: 0.27436396631444404 and parameters: {'learning_rate': 0.0926829080858194, 'max_depth': 4, 'n_estimators': 118, 'reg_lambda': 6.40001, 'reg_alpha': 4.94001, 'subsample': 0.5941891243379328}. Best is trial 1 with value: 0.24392505410874596.\n"
     ]
    },
    {
     "name": "stdout",
     "output_type": "stream",
     "text": [
      "Mean Test RMSE: 0.27436396631444404\n",
      "Mean Train RMSE: 0.27201180835225314\n",
      "Mean Test R²: 0.7689255773171368\n",
      "Mean Train R²: 0.7729275646835952\n"
     ]
    },
    {
     "name": "stderr",
     "output_type": "stream",
     "text": [
      "[I 2024-09-22 14:04:47,240] Trial 4 finished with value: 0.261337419423988 and parameters: {'learning_rate': 0.06519808985938291, 'max_depth': 10, 'n_estimators': 425, 'reg_lambda': 8.75001, 'reg_alpha': 6.970009999999999, 'subsample': 0.5558400324876602}. Best is trial 1 with value: 0.24392505410874596.\n"
     ]
    },
    {
     "name": "stdout",
     "output_type": "stream",
     "text": [
      "Mean Test RMSE: 0.261337419423988\n",
      "Mean Train RMSE: 0.2466349009008991\n",
      "Mean Test R²: 0.7903498273073878\n",
      "Mean Train R²: 0.8133198312146327\n",
      "Best parameters: {'learning_rate': 0.19146255145013838, 'max_depth': 9, 'n_estimators': 709, 'reg_lambda': 7.1700099999999996, 'reg_alpha': 0.10001, 'subsample': 0.8817373579708616}\n",
      "Best RMSE: 0.24392505410874596\n"
     ]
    }
   ],
   "source": [
    "model_parameters_xgboost = {\n",
    "    'learning_rate': {'type': 'float', 'low': 0.01, 'high': 0.2, 'log': True},\n",
    "    'max_depth': {'type': 'int', 'low': 3, 'high': 10},\n",
    "    'n_estimators': {'type': 'int', 'low': 100, 'high': 1000},\n",
    "    'reg_lambda': {'type': 'float', 'low': 1e-5, 'high': 10, 'step': 0.01}, \n",
    "    'reg_alpha': {'type': 'float', 'low': 1e-5, 'high': 10, 'step': 0.01},  \n",
    "    'subsample': {'type': 'float', 'low': 0.5, 'high': 1.0}  \n",
    "}\n",
    "\n",
    "\n",
    "X_train = df_train.drop(columns=['trip_duration'])\n",
    "y_train = df_train['trip_duration']\n",
    "\n",
    "\n",
    "study = optuna.create_study(direction='minimize')\n",
    "study.optimize(lambda trial: objective(trial, X_train, y_train,  'xgboost', model_parameters_xgboost), n_trials=5)\n",
    "\n",
    "best_params = study.best_params\n",
    "best_value = study.best_value\n",
    "\n",
    "print(f\"Best parameters: {best_params}\")\n",
    "print(f\"Best RMSE: {best_value}\")"
   ]
  },
  {
   "cell_type": "code",
   "execution_count": 11,
   "metadata": {},
   "outputs": [
    {
     "name": "stdout",
     "output_type": "stream",
     "text": [
      "Best trial number: 1\n",
      "Best trial value (RMSE): 0.24392505410874596\n",
      "Best hyperparameters: {'learning_rate': 0.19146255145013838, 'max_depth': 9, 'n_estimators': 709, 'reg_lambda': 7.1700099999999996, 'reg_alpha': 0.10001, 'subsample': 0.8817373579708616}\n"
     ]
    }
   ],
   "source": [
    "best_trial = study.best_trial\n",
    "\n",
    "\n",
    "print(f\"Best trial number: {best_trial.number}\")\n",
    "print(f\"Best trial value (RMSE): {best_trial.value}\")\n",
    "print(f\"Best hyperparameters: {best_trial.params}\")"
   ]
  },
  {
   "cell_type": "markdown",
   "metadata": {},
   "source": [
    "## Train Model with Best Hyperparameters"
   ]
  },
  {
   "cell_type": "code",
   "execution_count": 12,
   "metadata": {},
   "outputs": [
    {
     "name": "stderr",
     "output_type": "stream",
     "text": [
      "2024/09/22 14:04:54 WARNING mlflow.models.model: Model logged without a signature and input example. Please set `input_example` parameter when logging the model to auto infer the model signature.\n"
     ]
    }
   ],
   "source": [
    "with mlflow.start_run(run_name='xgboost'):\n",
    "    best_params = best_trial.params\n",
    "    mlflow.log_params(best_params)\n",
    "\n",
    "    model_parameterizer = RegressorParameterizer('xgboost', model_parameters_xgboost)\n",
    "    regressor = model_parameterizer.select_model(**best_params)\n",
    "\n",
    "    categorical_features = ['PU_DO']\n",
    "    numerical_features = ['min_of_day', 'day_of_week', 'day_of_year','trip_distance']\n",
    "\n",
    "    preprocessor = ColumnTransformer(\n",
    "        transformers=[\n",
    "            ('cat', OneHotEncoder(handle_unknown='ignore'), categorical_features),\n",
    "            ('num', StandardScaler(), numerical_features)\n",
    "        ])\n",
    "    \n",
    "    pipeline = make_pipeline(preprocessor, regressor)\n",
    "    pipeline.fit(X_train, y_train)\n",
    "    y_train_pred = pipeline.predict(X_train)\n",
    "\n",
    "    rmse_train = mean_squared_error(y_train, y_train_pred, squared=False)\n",
    "    r2_train = r2_score(y_train, y_train_pred)\n",
    "    mae_train = mean_absolute_error(y_train, y_train_pred)\n",
    "\n",
    "\n",
    "\n",
    "    y_val_pred = pipeline.predict(X_val)\n",
    "    rmse_val = mean_squared_error(y_val, y_val_pred, squared=False)\n",
    "    r2_val = r2_score(y_val, y_val_pred)\n",
    "    mae_val = mean_absolute_error(y_val, y_val_pred)\n",
    "\n",
    "\n",
    "    metrics_model = {\n",
    "        'rmse_val': rmse_val,\n",
    "        'r2_val': r2_val,\n",
    "        'mae_val': mae_val,\n",
    "        'rmse_train': rmse_train,\n",
    "        'r2_train': r2_train,\n",
    "        'mae_train': mae_train\n",
    "    }\n",
    "    mlflow.log_metrics(metrics_model)\n",
    "    mlflow.log_metrics(metrics_model)\n",
    "    \n",
    "    # Save the trained pipeline model\n",
    "    os.makedirs('models', exist_ok=True)\n",
    "    model_filename = f'models/pipeline_xgboost.joblib'\n",
    "    joblib.dump(pipeline, model_filename)\n",
    "\n",
    "    mlflow.sklearn.log_model(pipeline, \"model\")\n",
    "    \n",
    "mlflow.end_run()\n"
   ]
  },
  {
   "cell_type": "markdown",
   "metadata": {},
   "source": [
    "\n",
    "<center><img src=\"figures/mlflow_xgboost.png\" ></center>\n"
   ]
  },
  {
   "cell_type": "markdown",
   "metadata": {},
   "source": [
    "## Load the model from Mlflow"
   ]
  },
  {
   "cell_type": "code",
   "execution_count": 14,
   "metadata": {},
   "outputs": [],
   "source": [
    "run_id = '3e49d96fe8f444dfa55a335eb01f2379'\n",
    "logged_model = f'runs:/{run_id}/model'\n",
    "loaded_pipeline = mlflow.sklearn.load_model(logged_model)\n",
    "y_pred = loaded_pipeline.predict(X_val)"
   ]
  },
  {
   "cell_type": "code",
   "execution_count": 15,
   "metadata": {},
   "outputs": [
    {
     "data": {
      "text/plain": [
       "<matplotlib.legend.Legend at 0x74e3b99998a0>"
      ]
     },
     "execution_count": 15,
     "metadata": {},
     "output_type": "execute_result"
    },
    {
     "data": {
      "image/png": "[encoded data removed]",
      "text/plain": [
       "<Figure size 1600x600 with 1 Axes>"
      ]
     },
     "metadata": {},
     "output_type": "display_data"
    }
   ],
   "source": [
    "plt.figure(figsize=(16, 6))\n",
    "\n",
    "# KDE plot for residuals\n",
    "sns.kdeplot(y_val, color='blue', fill=True, alpha=0.5, label='True')\n",
    "sns.kdeplot(y_pred, color='green', fill=True, alpha=0.5, label='Predicted')\n",
    "plt.legend()"
   ]
  }
 ],
 "metadata": {
  "kernelspec": {
   "display_name": "Python 3",
   "language": "python",
   "name": "python3"
  },
  "language_info": {
   "codemirror_mode": {
    "name": "ipython",
    "version": 3
   },
   "file_extension": ".py",
   "mimetype": "text/x-python",
   "name": "python",
   "nbconvert_exporter": "python",
   "pygments_lexer": "ipython3",
   "version": "3.10.12"
  }
 },
 "nbformat": 4,
 "nbformat_minor": 2
}
