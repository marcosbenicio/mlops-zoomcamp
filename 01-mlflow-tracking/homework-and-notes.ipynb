{
 "cells": [
  {
   "cell_type": "markdown",
   "metadata": {},
   "source": [
    "# **ML Flow**"
   ]
  },
  {
   "cell_type": "code",
   "execution_count": 77,
   "metadata": {},
   "outputs": [],
   "source": [
    "import mlflow\n",
    "from dotenv import load_dotenv\n",
    "import numpy as np\n",
    "import pandas as pd\n",
    "import matplotlib.pyplot as plt\n",
    "from pathlib import Path\n",
    "import seaborn as sns\n",
    "import joblib\n",
    "\n",
    "import os\n",
    "import platform\n",
    "\n",
    "from sklearn.feature_extraction import DictVectorizer\n",
    "from sklearn.linear_model import LinearRegression \n",
    "from sklearn.linear_model import Lasso\n",
    "from sklearn.linear_model import Ridge\n",
    "from sklearn.metrics import mean_squared_error"
   ]
  },
  {
   "cell_type": "markdown",
   "metadata": {},
   "source": [
    "# **Introduction**\n",
    "\n",
    "It Help in the machine learning workflow. As a Python package, it can be easily installed using `pip install mlflow`. MLflow is composed of four main modules:\n",
    "\n",
    "- **Tracking**:  allows you to log and query experiments, including code versions, parameters, metrics, and output files, ensuring you can reproduce and compare results across different runs.\n",
    "\n",
    "- **Projects**: provides a standard format for packaging reusable data science code. It enables you to organize your code in a way that makes it easy to run and reproduce across different environments.\n",
    "\n",
    "- **Models**: MLflow Models offers a unified approach for packaging machine learning models. It supports multiple formats (e.g., TensorFlow, PyTorch, Scikit-Learn) \n",
    "\n",
    "- **Registry**: The Model Registry provides a centralized place to manage and govern the full lifecycle of your models. It includes functionalities for versioning, staging, and annotating models, helping maintain an organized workflow from experimentation to production.\n",
    "\n"
   ]
  },
  {
   "cell_type": "markdown",
   "metadata": {},
   "source": [
    "\n",
    "## **Tracking experiments**\n",
    "\n",
    "MLflow traking module allows to organize the experiments into runs, and keep track of the :\n",
    "\n",
    "- **Parameters**:  path to train dataset, number of epochs, learning rate, etc.\n",
    "\n",
    "- **metrics**: accuracy, loss, etc.\n",
    "\n",
    "- **metadata**: code version, git commit, etc.\n",
    "\n",
    "- **artifcats**: any file produced during the run, such as model, plots, etc.\n",
    "\n",
    "- **models**: the model itself, which can be saved and loaded using the MLflow API.\n",
    "\n",
    "Creating a new experiment by using `.set_experiment()` method: "
   ]
  },
  {
   "cell_type": "code",
   "execution_count": 79,
   "metadata": {},
   "outputs": [
    {
     "name": "stderr",
     "output_type": "stream",
     "text": [
      "2024/09/19 20:29:35 INFO mlflow.tracking.fluent: Experiment with name 'taxi-trip' does not exist. Creating a new experiment.\n"
     ]
    },
    {
     "name": "stdout",
     "output_type": "stream",
     "text": [
      "MLFLOW_EXPERIMENT_NAME set to: taxi-trip\n",
      "MLFLOW_TRACKING_URI set to: /home/marcos/GitHub/mlops-zoomcamp/01-mlflow-tracking/mlruns\n"
     ]
    },
    {
     "data": {
      "text/plain": [
       "<Experiment: artifact_location='/home/marcos/GitHub/mlops-zoomcamp/01-mlflow-tracking/mlruns/666102029943634674', creation_time=1726788575104, experiment_id='666102029943634674', last_update_time=1726788575104, lifecycle_stage='active', name='taxi-trip', tags={}>"
      ]
     },
     "execution_count": 79,
     "metadata": {},
     "output_type": "execute_result"
    }
   ],
   "source": [
    "# Load .env \n",
    "load_dotenv()\n",
    "\n",
    "# Determine the operating system\n",
    "is_linux = platform.system() == 'Linux'\n",
    "is_windows = platform.system() == 'Windows'\n",
    "\n",
    "if is_linux:\n",
    "    root_url = os.path.expanduser(os.getenv(\"ROOT_URL_LINUX\"))\n",
    "elif is_windows:\n",
    "    root_url = os.getenv(\"ROOT_URL_WINDOWS\")\n",
    "else:\n",
    "    raise EnvironmentError(\"Unsupported operating system\")\n",
    "\n",
    "# Construct paths for MLflow tracking\n",
    "mlflow_tracking_uri = str(Path(root_url) / 'mlops-zoomcamp/01-mlflow-tracking/mlruns')\n",
    "\n",
    "os.environ[\"MLFLOW_TRACKING_URI\"] = mlflow_tracking_uri\n",
    "experiment_name = os.getenv(\"MLFLOW_EXPERIMENT_NAME\")\n",
    "\n",
    "print(f\"MLFLOW_EXPERIMENT_NAME set to: {experiment_name}\")\n",
    "print(f\"MLFLOW_TRACKING_URI set to: {mlflow_tracking_uri}\")\n",
    "\n",
    "mlflow.set_tracking_uri(mlflow_tracking_uri)\n",
    "mlflow.set_experiment(experiment_name)\n"
   ]
  },
  {
   "cell_type": "markdown",
   "metadata": {},
   "source": [
    "## Preprocessing Taxi Data"
   ]
  },
  {
   "cell_type": "code",
   "execution_count": 80,
   "metadata": {},
   "outputs": [
    {
     "data": {
      "text/plain": [
       "(65946, 62574)"
      ]
     },
     "execution_count": 80,
     "metadata": {},
     "output_type": "execute_result"
    }
   ],
   "source": [
    "def preprocess_trip_data(file_path, min_duration=1, max_duration=60):\n",
    "\n",
    "    df = pd.read_parquet(file_path)\n",
    "\n",
    "    df.lpep_pickup_datetime = pd.to_datetime(df.lpep_pickup_datetime)\n",
    "    df.lpep_dropoff_datetime = pd.to_datetime(df.lpep_dropoff_datetime)\n",
    "\n",
    "\n",
    "    df['trip_duration'] = (df.lpep_dropoff_datetime - df.lpep_pickup_datetime).dt.seconds/60\n",
    "\n",
    "    # subset the data between min_duration and max_duration\n",
    "    df = df[(df['trip_duration'] >= min_duration) & (df['trip_duration'] <= max_duration)].copy()\n",
    "\n",
    "    categorical = ['PULocationID', 'DOLocationID']\n",
    "    df[categorical] = df[categorical].astype(str)\n",
    "    df['PU_DO']  = df['PULocationID'] + '_' + df['DOLocationID']\n",
    "    \n",
    "\n",
    "    return df\n",
    "\n",
    "\n",
    "df_train = preprocess_trip_data('data/raw/green/2023/01/green_tripdata_2023_01.parquet')\n",
    "df_val = preprocess_trip_data('data/raw/green/2023/02/green_tripdata_2023_02.parquet')\n",
    "len(df_train), len(df_val)"
   ]
  },
  {
   "cell_type": "code",
   "execution_count": 81,
   "metadata": {},
   "outputs": [],
   "source": [
    "categorical = ['PU_DO'] #'PULocationID', 'DOLocationID']\n",
    "numerical = ['trip_distance']\n",
    "\n",
    "dv = DictVectorizer()\n",
    "\n",
    "train_dicts = df_train[categorical + numerical].to_dict(orient='records')\n",
    "X_train = dv.fit_transform(train_dicts)\n",
    "\n",
    "val_dicts = df_val[categorical + numerical].to_dict(orient='records')\n",
    "X_val = dv.transform(val_dicts)\n",
    "\n",
    "y_train = df_train['trip_duration'].values\n",
    "y_val = df_val['trip_duration'].values"
   ]
  },
  {
   "cell_type": "markdown",
   "metadata": {},
   "source": [
    "## Trining and Saving Model"
   ]
  },
  {
   "cell_type": "code",
   "execution_count": 82,
   "metadata": {},
   "outputs": [
    {
     "name": "stdout",
     "output_type": "stream",
     "text": [
      "RMSE: 6.037558422778642\n"
     ]
    }
   ],
   "source": [
    "lr = LinearRegression()\n",
    "lr.fit(X_train, y_train)\n",
    "\n",
    "y_pred = lr.predict(X_val)\n",
    "\n",
    "rmse = mean_squared_error(y_val, y_pred, squared=False)\n",
    "print(f\"RMSE: {rmse}\")"
   ]
  },
  {
   "cell_type": "code",
   "execution_count": 83,
   "metadata": {},
   "outputs": [
    {
     "data": {
      "text/plain": [
       "<matplotlib.legend.Legend at 0x771203902f80>"
      ]
     },
     "execution_count": 83,
     "metadata": {},
     "output_type": "execute_result"
    },
    {
     "data": {
      "image/png": "[encoded data removed]",
      "text/plain": [
       "<Figure size 1600x600 with 1 Axes>"
      ]
     },
     "metadata": {},
     "output_type": "display_data"
    }
   ],
   "source": [
    "plt.figure(figsize=(16, 6))\n",
    "\n",
    "# KDE plot for residuals\n",
    "sns.kdeplot(y_val, color='blue', fill=True, alpha=0.5, label='True')\n",
    "sns.kdeplot(y_pred, color='green', fill=True, alpha=0.5, label='Predicted')\n",
    "plt.legend()\n"
   ]
  },
  {
   "cell_type": "code",
   "execution_count": 84,
   "metadata": {},
   "outputs": [
    {
     "name": "stdout",
     "output_type": "stream",
     "text": [
      "Model saved to: models/lr_model.joblib\n"
     ]
    }
   ],
   "source": [
    "# Save trained model\n",
    "os.makedirs('models', exist_ok=True)\n",
    "model_filename = 'models/lr_model.joblib'\n",
    "\n",
    "with open('models/lin_reg.joblib', 'wb') as f_out:\n",
    "    joblib.dump((dv, lr), f_out)\n",
    "\n",
    "print(f\"Model saved to: {model_filename}\")\n"
   ]
  },
  {
   "cell_type": "markdown",
   "metadata": {},
   "source": [
    "## MLflow Structure\n",
    "\n",
    "**Experiment:** An experiment is a container for multiple runs. It has a unique experiment ID that groups together all the runs related to a specific experiment or goal. We can think of an experiment as a folder that holds many runs. Each experiment can be used to track a different set of experiments, such as hyperparameter tuning or model comparison.\n",
    "\n",
    "**Run:** A run represents a single execution or trial within an experiment. Each run has a unique run ID, and it logs parameters, metrics, artifacts, and other information associated with that specific run.\n",
    "A run is essentially a child of an experiment, and multiple runs can belong to the same experiment. Runs allow you to track different configurations or experiments, like different hyperparameters or models, under the same experiment.\n",
    "\n",
    "**Parameters:** Parameters are variables that can be logged and associated with a run. They are typically used to track hyperparameters or other input values that influence the outcome of the run. For example, the learning rate or the number of epochs are common parameters that can be logged.\n",
    "\n",
    "\n",
    "In MLflow, a run is a single instance of an experiment where we train a model, log parameters, metrics, and artifacts. However, to try different configurations or models under the same overall goal or experiment we can use nested runs. Nested runs are runs that are created within another run, allowing us to group related runs together. This can be useful when we want to compare different models or hyperparameters under the same experiment. The structure for the nested runs are the following:\n",
    "\n",
    "\n",
    "```\n",
    "Experiment (experiment_id: 123)\n",
    "│\n",
    "├── Run 1 (run_id: abc123)\n",
    "│   ├── parameters: alpha=0.01\n",
    "│   ├── metrics: rmse=0.85\n",
    "│   ├── artifacts: lasso_model_alpha_0.01.joblib\n",
    "│   ├── tags\n",
    "│\n",
    "├── Run 2 (run_id: def456)\n",
    "│   ├── parameters: alpha=0.1\n",
    "│   ├── metrics: rmse=0.78\n",
    "│   ├── artifacts: lasso_model_alpha_0.1.joblib\n",
    "│   ├── tags\n",
    "│\n",
    "├── Run 3 (run_id: ghi789)\n",
    "│   ├── parameters: alpha=0.2\n",
    "│   ├── metrics: rmse=0.81\n",
    "│   ├── artifacts: lasso_model_alpha_0.2.joblib\n",
    "│   ├── tags\n",
    "```\n",
    "<center><img src=\"figures/mlflow_folder_structure.png\" width=\"800\" height=\"800\"></center>\n",
    "\n",
    "**Usefull Commands**\n",
    "\n",
    "1. **Tags** (`.set_tag`):\n",
    "   - Used to categorize and label runs, making them easier to find and organize in the MLflow UI.\n",
    "\n",
    "2. **Logging Parameters** (`.log_param`):\n",
    "   - Tracks hyperparameters like **alpha** and important metadata such as dataset paths, making it possible to recreate or analyze the run's conditions.\n",
    "\n",
    "3. **Logging Metrics** (`.log_metric`):\n",
    "   - Tracks the performance of the model, such as **RMSE**, providing a quantifiable metric that can be compared across different runs or experiments.\n",
    "\n",
    "4. **Logging Artifacts** (`.log_artifact`):\n",
    "   - Saves important files (like trained models) as artifacts, ensuring that they are available for future use or deployment."
   ]
  },
  {
   "cell_type": "code",
   "execution_count": 85,
   "metadata": {},
   "outputs": [
    {
     "name": "stdout",
     "output_type": "stream",
     "text": [
      "Model saved to: models/lasso_model_alpha_0.001.joblib\n",
      "Model saved to: models/lasso_model_alpha_0.01.joblib\n",
      "Model saved to: models/lasso_model_alpha_0.1.joblib\n",
      "Model saved to: models/lasso_model_alpha_0.2.joblib\n",
      "Model saved to: models/lasso_model_alpha_0.4.joblib\n"
     ]
    }
   ],
   "source": [
    "with mlflow.start_run(run_name=\"Parent Experiment\"):\n",
    "    # Log the general experiment information\n",
    "    mlflow.set_tag(\"experiment_type\", \"Hyperparameter tuning\")\n",
    "    mlflow.log_param(\"train-data-path\", \"data/raw/green/2023/01/green_tripdata_2023_01.parquet\")\n",
    "    mlflow.log_param(\"valid-data-path\", \"data/raw/green/2023/02/green_tripdata_2023_02.parquet\")\n",
    "    \n",
    "    for alpha in [0.001, 0.01, 0.1, 0.2, 0.4]:\n",
    "        # Start a nested run for each alpha value\n",
    "        run_name = f\"Lasso model with alpha={alpha}\"\n",
    "        with mlflow.start_run(nested=True, run_name= run_name):\n",
    "            mlflow.log_param(\"alpha\", alpha)\n",
    "            \n",
    "            # Train the model\n",
    "            lr = Lasso(alpha)\n",
    "            lr.fit(X_train, y_train)\n",
    "            \n",
    "            # Log performance metrics\n",
    "            y_pred = lr.predict(X_val)\n",
    "            rmse = mean_squared_error(y_val, y_pred, squared=False)\n",
    "            mlflow.log_metric(\"rmse\", rmse)\n",
    "            \n",
    "            # Save trained model\n",
    "            os.makedirs('models', exist_ok=True)\n",
    "            model_filename = f'models/lasso_model_alpha_{alpha}.joblib'\n",
    "\n",
    "            with open(model_filename, 'wb') as f_out:\n",
    "                joblib.dump((dv, lr), f_out)\n",
    "\n",
    "            print(f\"Model saved to: {model_filename}\")\n",
    "\n",
    "            # Log the model artifact\n",
    "            mlflow.log_artifact(local_path=model_filename, artifact_path=\"models\")\n",
    "            \n",
    "    mlflow.end_run()"
   ]
  },
  {
   "cell_type": "markdown",
   "metadata": {},
   "source": [
    "\n",
    "\n",
    "<center><img src=\"figures/mlflow_experiment_ui.png\"></center>"
   ]
  },
  {
   "cell_type": "markdown",
   "metadata": {},
   "source": [
    "# Exemplo Using XGBoost"
   ]
  },
  {
   "cell_type": "code",
   "execution_count": 60,
   "metadata": {},
   "outputs": [],
   "source": [
    "import xgboost as xgb\n",
    "import optuna"
   ]
  },
  {
   "cell_type": "markdown",
   "metadata": {},
   "source": []
  },
  {
   "cell_type": "code",
   "execution_count": null,
   "metadata": {},
   "outputs": [],
   "source": []
  }
 ],
 "metadata": {
  "kernelspec": {
   "display_name": "Python 3",
   "language": "python",
   "name": "python3"
  },
  "language_info": {
   "codemirror_mode": {
    "name": "ipython",
    "version": 3
   },
   "file_extension": ".py",
   "mimetype": "text/x-python",
   "name": "python",
   "nbconvert_exporter": "python",
   "pygments_lexer": "ipython3",
   "version": "3.10.12"
  }
 },
 "nbformat": 4,
 "nbformat_minor": 2
}
